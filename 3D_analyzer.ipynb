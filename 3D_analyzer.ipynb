{
 "cells": [
  {
   "cell_type": "code",
   "execution_count": 1,
   "id": "f1f80611",
   "metadata": {},
   "outputs": [
    {
     "name": "stdout",
     "output_type": "stream",
     "text": [
      "Jupyter environment detected. Enabling Open3D WebVisualizer.\n",
      "[Open3D INFO] WebRTC GUI backend enabled.\n",
      "[Open3D INFO] WebRTCWindowSystem: HTTP handshake server disabled.\n",
      "0.16.0\n"
     ]
    }
   ],
   "source": [
    "import numpy as np\n",
    "import open3d as o3d\n",
    "print(o3d.__version__)\n",
    "\n",
    "# Animation callback function. it needs to contain as a minimum the visualizer reference\n",
    "def rotate_around(vis):\n",
    "    # We create a 3D rotation matrix from x,y,z rotations, the rotations need to be given in radians\n",
    "    R = mesh.get_rotation_matrix_from_xyz((0, np.deg2rad(2), 0))\n",
    "    # The rotation matrix is applied to the specified object - in our case the mesh. We can also specify the rotation pivot center\n",
    "    mesh.rotate(R, center=(0, 0, 0))\n",
    "\n",
    "    # We create a 3D rotation matrix for the sphere as well in the opposite direction\n",
    "    R_sphere = mesh.get_rotation_matrix_from_xyz((0, np.deg2rad(-4), 0))\n",
    "    # Apply it\n",
    "    sphere_mesh.rotate(R_sphere, center=(0, 0, 0))\n",
    "    # For the changes to be seen we need to update both the geometry that has been changed and to update the whole renderer connected to the visualizer\n",
    "    vis.update_geometry(mesh)\n",
    "    vis.update_geometry(sphere_mesh)\n",
    "    vis.update_renderer()"
   ]
  },
  {
   "cell_type": "code",
   "execution_count": 2,
   "id": "1d4be8d6",
   "metadata": {},
   "outputs": [
    {
     "name": "stdout",
     "output_type": "stream",
     "text": [
      "TriangleMesh with 3932 points and 7866 triangles.\n",
      "Vertices:\n",
      "[[-2.26381397  4.15820217  0.73793399]\n",
      " [-2.23355603  4.10932112  0.73367399]\n",
      " [-2.263834    4.14955997  0.78367299]\n",
      " ...\n",
      " [ 0.57464498  3.85154295  0.46080899]\n",
      " [ 0.36781299  3.75395608  0.50451702]\n",
      " [ 0.328731    3.82142591  0.38308999]]\n",
      "Triangles:\n",
      "[[   0    1    2]\n",
      " [   3    4    5]\n",
      " [   6    7    8]\n",
      " ...\n",
      " [3214 3929 3921]\n",
      " [3929 1792 3204]\n",
      " [3925 1749 3929]]\n"
     ]
    }
   ],
   "source": [
    "# LOAD \n",
    "# Load mesh, together with setting the flag for post-processing to True, so the texture and material will be loaded\n",
    "mesh_path = \"AsteroidWall_Int.obj\"\n",
    "mesh = o3d.io.read_triangle_mesh(mesh_path,True)\n",
    "# We can get information from the mesh like vertices, triangles, faces, UVs and texture\n",
    "print(mesh)\n",
    "print('Vertices:')\n",
    "print(np.asarray(mesh.vertices))\n",
    "print('Triangles:')\n",
    "print(np.asarray(mesh.triangles))"
   ]
  },
  {
   "cell_type": "code",
   "execution_count": 3,
   "id": "52d87a22",
   "metadata": {},
   "outputs": [
    {
     "name": "stdout",
     "output_type": "stream",
     "text": [
      "0.16.0\n",
      "TriangleMesh with 3932 points and 7866 triangles.\n",
      "Vertices:\n",
      "[[-2.26381397  4.15820217  0.73793399]\n",
      " [-2.23355603  4.10932112  0.73367399]\n",
      " [-2.263834    4.14955997  0.78367299]\n",
      " ...\n",
      " [ 0.57464498  3.85154295  0.46080899]\n",
      " [ 0.36781299  3.75395608  0.50451702]\n",
      " [ 0.328731    3.82142591  0.38308999]]\n",
      "Triangles:\n",
      "[[   0    1    2]\n",
      " [   3    4    5]\n",
      " [   6    7    8]\n",
      " ...\n",
      " [3214 3929 3921]\n",
      " [3929 1792 3204]\n",
      " [3925 1749 3929]]\n"
     ]
    }
   ],
   "source": [
    "if __name__ == '__main__':\n",
    "\n",
    "    print(o3d.__version__)\n",
    "\n",
    "    # Load mesh, together with setting the flag for post-processing to True, so the texture and material will be loaded\n",
    "    mesh_path = 'AsteroidWall_Int.obj'\n",
    "    mesh = o3d.io.read_triangle_mesh(mesh_path,True)\n",
    "\n",
    "    print(mesh)\n",
    "    print('Vertices:')\n",
    "    print(np.asarray(mesh.vertices))\n",
    "    print('Triangles:')\n",
    "    print(np.asarray(mesh.triangles))\n",
    "\n",
    "\n",
    "    # We can extract information from the mesh like faces, UVs and texture\n",
    "    mesh_faces = mesh.triangles\n",
    "    mesh_uvs = mesh.triangle_uvs\n",
    "    texture = mesh.textures\n",
    "\n",
    "\n",
    "\n",
    "    # We create a visualizer object that will contain references to the created window, the 3D objects and will listen to callbacks for key presses, animations, etc.\n",
    "    vis = o3d.visualization.Visualizer()\n",
    "    # New window, where we can set the name, the width and height, as well as the position on the screen\n",
    "    vis.create_window(window_name='Angel Visualize', width=800, height=600)\n",
    "\n",
    "    # We call add_geometry to add a mesh or point cloud to the visualizer\n",
    "    vis.add_geometry(mesh)\n",
    "\n",
    "    # We can easily create primitives like cubes, sphere, cylinders, etc. In our case we create a sphere and specify its radius\n",
    "    sphere_mesh = o3d.geometry.TriangleMesh.create_sphere(radius=0.05)\n",
    "\n",
    "    # We can compute either vertex or face normals\n",
    "    sphere_mesh.compute_vertex_normals()\n",
    "    # Add the sphere to the visualizer\n",
    "    vis.add_geometry(sphere_mesh)\n",
    "    # Translate it from the center\n",
    "    sphere_mesh.translate((1, 0, 0))\n",
    "\n",
    "    # We can register callback animation functions that will be run on every update cycle\n",
    "    vis.register_animation_callback(rotate_around)\n",
    "    # We run the visualizater\n",
    "    vis.run()\n",
    "    # Once the visualizer is closed destroy the window and clean up\n",
    "    vis.destroy_window()"
   ]
  },
  {
   "cell_type": "code",
   "execution_count": null,
   "id": "d4417015",
   "metadata": {},
   "outputs": [],
   "source": []
  }
 ],
 "metadata": {
  "kernelspec": {
   "display_name": "Python 3 (ipykernel)",
   "language": "python",
   "name": "python3"
  },
  "language_info": {
   "codemirror_mode": {
    "name": "ipython",
    "version": 3
   },
   "file_extension": ".py",
   "mimetype": "text/x-python",
   "name": "python",
   "nbconvert_exporter": "python",
   "pygments_lexer": "ipython3",
   "version": "3.8.15"
  }
 },
 "nbformat": 4,
 "nbformat_minor": 5
}
